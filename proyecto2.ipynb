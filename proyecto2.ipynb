{
  "nbformat": 4,
  "nbformat_minor": 0,
  "metadata": {
    "colab": {
      "provenance": []
    },
    "kernelspec": {
      "name": "python3",
      "display_name": "Python 3"
    },
    "language_info": {
      "name": "python"
    }
  },
  "cells": [
    {
      "cell_type": "markdown",
      "source": [
        "# **Notebook prueba del proyecto 2**"
      ],
      "metadata": {
        "id": "yavAyO_HBuHU"
      }
    },
    {
      "cell_type": "markdown",
      "source": [
        "### **Instalacion e importación del paquete**"
      ],
      "metadata": {
        "id": "NGPAI26wCV11"
      }
    },
    {
      "cell_type": "code",
      "execution_count": 1,
      "metadata": {
        "colab": {
          "base_uri": "https://localhost:8080/"
        },
        "id": "fghonVlhBUPn",
        "outputId": "12d074a3-70b0-4e4a-c6a1-c05b48abaa39"
      },
      "outputs": [
        {
          "output_type": "stream",
          "name": "stdout",
          "text": [
            "Looking in indexes: https://pypi.org/simple, https://us-python.pkg.dev/colab-wheels/public/simple/\n",
            "Collecting paquete-hugo-fonseca\n",
            "  Downloading paquete_hugo_fonseca-0.0.3-py3-none-any.whl (3.8 kB)\n",
            "Installing collected packages: paquete-hugo-fonseca\n",
            "Successfully installed paquete-hugo-fonseca-0.0.3\n"
          ]
        }
      ],
      "source": [
        "!pip install paquete-hugo-fonseca"
      ]
    },
    {
      "cell_type": "code",
      "source": [
        "from paquete_hugo_fonseca.estadisticos import Estadisticos_descriptivos"
      ],
      "metadata": {
        "id": "Fd7XJRfwBdQZ"
      },
      "execution_count": 4,
      "outputs": []
    },
    {
      "cell_type": "markdown",
      "source": [
        "### **Creación del objeto**"
      ],
      "metadata": {
        "id": "oINXmFewCbo1"
      }
    },
    {
      "cell_type": "code",
      "source": [
        "objeto = Estadisticos_descriptivos([4,5,6,7,8,9,1,2,4])"
      ],
      "metadata": {
        "id": "vHM1FKL0Biqj"
      },
      "execution_count": 5,
      "outputs": []
    },
    {
      "cell_type": "markdown",
      "source": [
        "### **Test de los metodos creados**"
      ],
      "metadata": {
        "id": "QEslKc2cCfV7"
      }
    },
    {
      "cell_type": "markdown",
      "source": [
        "**Media**"
      ],
      "metadata": {
        "id": "Rap-ukHDCkKi"
      }
    },
    {
      "cell_type": "code",
      "source": [
        "objeto.media()"
      ],
      "metadata": {
        "colab": {
          "base_uri": "https://localhost:8080/"
        },
        "id": "IBp3EtvwB8MK",
        "outputId": "9a69760b-fc66-4519-99ab-b29fefbc2c40"
      },
      "execution_count": 6,
      "outputs": [
        {
          "output_type": "execute_result",
          "data": {
            "text/plain": [
              "5.111111111111111"
            ]
          },
          "metadata": {},
          "execution_count": 6
        }
      ]
    },
    {
      "cell_type": "markdown",
      "source": [
        "**Mediana**"
      ],
      "metadata": {
        "id": "M5vHIGdFCmSl"
      }
    },
    {
      "cell_type": "code",
      "source": [
        "objeto.mediana()"
      ],
      "metadata": {
        "colab": {
          "base_uri": "https://localhost:8080/"
        },
        "id": "DWUoYR1TCKlc",
        "outputId": "6f76d8bb-4715-4996-e241-895e04693173"
      },
      "execution_count": 7,
      "outputs": [
        {
          "output_type": "execute_result",
          "data": {
            "text/plain": [
              "5"
            ]
          },
          "metadata": {},
          "execution_count": 7
        }
      ]
    },
    {
      "cell_type": "markdown",
      "source": [
        "**Moda**"
      ],
      "metadata": {
        "id": "RuIlYZmUCoar"
      }
    },
    {
      "cell_type": "code",
      "source": [
        "objeto.moda()"
      ],
      "metadata": {
        "colab": {
          "base_uri": "https://localhost:8080/"
        },
        "id": "iYwscID2CMn_",
        "outputId": "c3349590-5479-4697-9291-c1c1182af74d"
      },
      "execution_count": 8,
      "outputs": [
        {
          "output_type": "execute_result",
          "data": {
            "text/plain": [
              "4"
            ]
          },
          "metadata": {},
          "execution_count": 8
        }
      ]
    },
    {
      "cell_type": "markdown",
      "source": [
        "**Varianza**"
      ],
      "metadata": {
        "id": "uJjcWcI5CqTP"
      }
    },
    {
      "cell_type": "code",
      "source": [
        "objeto.varianza()"
      ],
      "metadata": {
        "colab": {
          "base_uri": "https://localhost:8080/"
        },
        "id": "bZ7O79OZCOBF",
        "outputId": "f4d123ac-befd-40a3-bc75-7ae0c5756072"
      },
      "execution_count": 9,
      "outputs": [
        {
          "output_type": "execute_result",
          "data": {
            "text/plain": [
              "7.111111111111111"
            ]
          },
          "metadata": {},
          "execution_count": 9
        }
      ]
    },
    {
      "cell_type": "markdown",
      "source": [
        "**Desviación Estandar**"
      ],
      "metadata": {
        "id": "j6kLuOsUCr5t"
      }
    },
    {
      "cell_type": "code",
      "source": [
        "objeto.desviacion()"
      ],
      "metadata": {
        "colab": {
          "base_uri": "https://localhost:8080/"
        },
        "id": "nzDRyHJtCRXl",
        "outputId": "09486552-df9f-4962-a569-ddfdfc4742dd"
      },
      "execution_count": 10,
      "outputs": [
        {
          "output_type": "execute_result",
          "data": {
            "text/plain": [
              "2.6666666666666665"
            ]
          },
          "metadata": {},
          "execution_count": 10
        }
      ]
    },
    {
      "cell_type": "markdown",
      "source": [
        "**Coeficiente de Variación**"
      ],
      "metadata": {
        "id": "f992wvP4C-15"
      }
    },
    {
      "cell_type": "code",
      "source": [
        "objeto.coeficiente_variacion()"
      ],
      "metadata": {
        "colab": {
          "base_uri": "https://localhost:8080/"
        },
        "id": "VbDQV7DtCUQi",
        "outputId": "17646e49-4372-45f2-f30d-c161064edb83"
      },
      "execution_count": 11,
      "outputs": [
        {
          "output_type": "execute_result",
          "data": {
            "text/plain": [
              "0.5217391304347826"
            ]
          },
          "metadata": {},
          "execution_count": 11
        }
      ]
    },
    {
      "cell_type": "markdown",
      "source": [
        "**Simetria**"
      ],
      "metadata": {
        "id": "6M_ESinUDDOe"
      }
    },
    {
      "cell_type": "code",
      "source": [
        "objeto.simetria()"
      ],
      "metadata": {
        "colab": {
          "base_uri": "https://localhost:8080/"
        },
        "id": "gqaJ01G4C0tN",
        "outputId": "518c9e6e-83e7-43aa-ace3-624ba63bf083"
      },
      "execution_count": 12,
      "outputs": [
        {
          "output_type": "execute_result",
          "data": {
            "text/plain": [
              "-9.368800170197588"
            ]
          },
          "metadata": {},
          "execution_count": 12
        }
      ]
    },
    {
      "cell_type": "markdown",
      "source": [
        "**Curtosis**"
      ],
      "metadata": {
        "id": "XUuNTaAQDGcV"
      }
    },
    {
      "cell_type": "code",
      "source": [
        "objeto.curtosis()"
      ],
      "metadata": {
        "colab": {
          "base_uri": "https://localhost:8080/"
        },
        "id": "9_Zb1e2ODFd8",
        "outputId": "f2091482-0bd6-422a-c0de-d3ac40f4ef58"
      },
      "execution_count": 13,
      "outputs": [
        {
          "output_type": "execute_result",
          "data": {
            "text/plain": [
              "1040.8071621838078"
            ]
          },
          "metadata": {},
          "execution_count": 13
        }
      ]
    },
    {
      "cell_type": "code",
      "source": [],
      "metadata": {
        "id": "2UWMM_h8DNRG"
      },
      "execution_count": null,
      "outputs": []
    }
  ]
}