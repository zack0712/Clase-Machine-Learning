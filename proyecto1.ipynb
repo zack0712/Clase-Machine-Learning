{
  "nbformat": 4,
  "nbformat_minor": 0,
  "metadata": {
    "colab": {
      "name": "H_proyecto1.ipynb",
      "provenance": [],
      "collapsed_sections": []
    },
    "kernelspec": {
      "name": "python3",
      "display_name": "Python 3"
    },
    "language_info": {
      "name": "python"
    }
  },
  "cells": [
    {
      "cell_type": "markdown",
      "source": [
        "## **Proyecto 1 - Corte 1**\n",
        "\n",
        "Nombre: Hugo Fonseca"
      ],
      "metadata": {
        "id": "BxBQkf4MFhTH"
      }
    },
    {
      "cell_type": "code",
      "execution_count": null,
      "metadata": {
        "id": "bOCmRD2SLiz7"
      },
      "outputs": [],
      "source": [
        "class Manipular_tabla:\n",
        "  \n",
        "  def __init__(self,vec:list):\n",
        "    self.tabla = vec\n",
        "    self.tamano = (len(self.tabla)-1,len(self.tabla[0]))\n",
        "    self.nombre_columnas = self.tabla[0]\n",
        "    tipos_datos = []\n",
        "    self.tipo_datos = [type(elemento) for elemento in self.tabla[1]]\n",
        "\n",
        "  def verificacion_tamano(self):\n",
        "    errores = []\n",
        "    for fila in self.tabla:\n",
        "      if len(fila) != self.tamano[1]:\n",
        "        errores.append(fila)\n",
        "      else:\n",
        "        None\n",
        "    if len(errores) == 0:\n",
        "      print(f'Todas las filas tienene el mismo numero de datos')\n",
        "    else:\n",
        "      print(f'Problemas en la fila {errores}')                  \n",
        "\n",
        "  def actualizar_tamano(self):\n",
        "    self.tamano = (len(self.tabla)-1,len(self.tabla[0]))\n",
        "    \n",
        "  def acceder_columna(self,columna:int):\n",
        "    if type(columna)==int and self.tamano[1]>=columna>=0:\n",
        "      return [[col[columna]] for col in self.tabla]\n",
        "    else:\n",
        "      print(f'Columna no valida')\n",
        "  \n",
        "  def acceder_fila(self,fila:int):\n",
        "    if type(fila)==int and self.tamano[0]-1>=fila>=0:   \n",
        "      return self.tabla[1:][fila]  # si queremos que las filas cuenten desde 1 hacemos slide por todo self.tabla \n",
        "    else:\n",
        "      print(f'Fila no valida')\n",
        "\n",
        "  def agregar_columna(self,nueva_col:list):\n",
        "    if len(nueva_col)==self.tamano[0] + 1:\n",
        "      nueva_tabla = []\n",
        "      for elemento in nueva_col:\n",
        "        nueva_tabla.append(self.tabla[nueva_col.index(elemento)] + [elemento])\n",
        "      self.tabla = nueva_tabla\n",
        "      self.actualizar_tamano()\n",
        "    else:\n",
        "      print('El numero de elementos de la nueva columna no coincide')\n",
        "\n",
        "  def eliminar_columna(self,columna:int):\n",
        "    if columna<=self.tamano[1]-1:\n",
        "      nueva_tabla = []\n",
        "      for fila in self.tabla:\n",
        "        nueva_fila = fila\n",
        "        nueva_fila.pop(columna)\n",
        "        nueva_tabla.append(nueva_fila)\n",
        "    else: \n",
        "      print(f'Columna no valida.')\n",
        "    self.actualizar_tamano()\n",
        "\n",
        "  def agregar_fila(self,nueva_fila:list):\n",
        "    if len(nueva_fila)==self.tamano[1]:\n",
        "      self.tabla.append(nueva_fila)\n",
        "      self.actualizar_tamano()\n",
        "    else:\n",
        "      print(f'El numero de elementos de la nueva fila no coincide')\n",
        "  \n",
        "  def eliminar_fila(self,fila:int):\n",
        "    if type(fila)==int and self.tamano[0]-1>=fila>=0:   \n",
        "      self.tabla.pop(fila+1)\n",
        "      self.actualizar_tamano()\n",
        "    else:\n",
        "      print('Fila no valida')\n",
        "\n",
        "  def operacion_escalar(self,operacion:str):\n",
        "    nueva_tabla = self.tabla[:1]\n",
        "    for fila in self.tabla[1:]:\n",
        "      nueva_fila = []\n",
        "      for elemento in fila:\n",
        "        op = str(elemento) + operacion\n",
        "        nueva_fila.append(eval(op))\n",
        "      nueva_tabla.append(nueva_fila)\n",
        "    self.tabla = nueva_tabla\n",
        "\n",
        "  def opreacion_columnas(self,operacion):\n",
        "    try:\n",
        "      elementos = operacion.split(' ')\n",
        "      col1 = self.tabla[0].index(elementos[0])\n",
        "      col2 = self.tabla[0].index(elementos[2])\n",
        "      op = 'i' + elementos[1] + 'j'\n",
        "      valores = [(i[0],j[0]) for (i,j) in zip(self.acceder_columna(col1)[1:],self.acceder_columna(col2)[1:])]\n",
        "      return [[operacion]] + [[eval(op)] for (i,j) in valores ]\n",
        "\n",
        "    except: \n",
        "      print(f'Syntaxis no valida')\n",
        "\n",
        "  def imprimir_tabla(self):\n",
        "    return print(self.tabla)\n",
        "\n",
        "  def ordenar_tabla(tipo_orden='mayor a menor')"
      ]
    },
    {
      "cell_type": "code",
      "source": [
        "test = Manipular_tabla([['gasto','ingreso'],\n",
        "                        [100,4500],\n",
        "                        [150,3500],\n",
        "                        [35,480]])\n"
      ],
      "metadata": {
        "id": "siDpDDyNM7Xr"
      },
      "execution_count": null,
      "outputs": []
    },
    {
      "cell_type": "markdown",
      "source": [
        "### **Tamaño de la tabla**"
      ],
      "metadata": {
        "id": "FlR_3WE8UL9B"
      }
    },
    {
      "cell_type": "code",
      "source": [
        "test.tamano"
      ],
      "metadata": {
        "colab": {
          "base_uri": "https://localhost:8080/"
        },
        "id": "ov--KFdvULSM",
        "outputId": "fc54b28c-f9eb-4aba-d547-bdae3410cd1b"
      },
      "execution_count": null,
      "outputs": [
        {
          "output_type": "execute_result",
          "data": {
            "text/plain": [
              "(3, 2)"
            ]
          },
          "metadata": {},
          "execution_count": 7
        }
      ]
    },
    {
      "cell_type": "markdown",
      "source": [
        "### **Nombres de las columnas**"
      ],
      "metadata": {
        "id": "y-RL3bcEUa_u"
      }
    },
    {
      "cell_type": "code",
      "source": [
        "test.nombre_columnas"
      ],
      "metadata": {
        "colab": {
          "base_uri": "https://localhost:8080/"
        },
        "id": "HVUVBza3UZ6k",
        "outputId": "0cdd9232-be7a-44b9-dcc7-2ec848513ca1"
      },
      "execution_count": null,
      "outputs": [
        {
          "output_type": "execute_result",
          "data": {
            "text/plain": [
              "['gasto', 'ingreso']"
            ]
          },
          "metadata": {},
          "execution_count": 8
        }
      ]
    },
    {
      "cell_type": "markdown",
      "source": [
        "### **Tipos de datos columnas**"
      ],
      "metadata": {
        "id": "fa47P5nDUqx0"
      }
    },
    {
      "cell_type": "code",
      "source": [
        "test.tipo_datos"
      ],
      "metadata": {
        "colab": {
          "base_uri": "https://localhost:8080/"
        },
        "id": "vksJaRDmUvsZ",
        "outputId": "53c8db35-7846-487d-fef8-8e15a1c8343d"
      },
      "execution_count": null,
      "outputs": [
        {
          "output_type": "execute_result",
          "data": {
            "text/plain": [
              "[int, int]"
            ]
          },
          "metadata": {},
          "execution_count": 9
        }
      ]
    },
    {
      "cell_type": "markdown",
      "source": [
        "### **Verificacion elementos filas**"
      ],
      "metadata": {
        "id": "cWo9iZC_Vz7L"
      }
    },
    {
      "cell_type": "code",
      "source": [
        "test.verificacion_tamano()"
      ],
      "metadata": {
        "colab": {
          "base_uri": "https://localhost:8080/"
        },
        "id": "5jeBqldNUv2C",
        "outputId": "5f81e87c-b4e4-448a-92c8-eb71b1783ab2"
      },
      "execution_count": null,
      "outputs": [
        {
          "output_type": "stream",
          "name": "stdout",
          "text": [
            "Todas las filas tienene el mismo numero de datos\n"
          ]
        }
      ]
    },
    {
      "cell_type": "markdown",
      "source": [
        "### **Acceder a una columna**"
      ],
      "metadata": {
        "id": "8Io6fvSYV8GV"
      }
    },
    {
      "cell_type": "code",
      "source": [
        "test.acceder_columna(1)"
      ],
      "metadata": {
        "colab": {
          "base_uri": "https://localhost:8080/"
        },
        "id": "d3EX0YMuUv4i",
        "outputId": "47bfa8f6-7106-43fc-cc04-cb4bd3647420"
      },
      "execution_count": null,
      "outputs": [
        {
          "output_type": "execute_result",
          "data": {
            "text/plain": [
              "[['ingreso'], [4500], [3500], [480]]"
            ]
          },
          "metadata": {},
          "execution_count": 11
        }
      ]
    },
    {
      "cell_type": "markdown",
      "source": [
        "### **Acceder a una fila**"
      ],
      "metadata": {
        "id": "yQlMgSpHWFbX"
      }
    },
    {
      "cell_type": "code",
      "source": [
        "test.acceder_fila(2)"
      ],
      "metadata": {
        "colab": {
          "base_uri": "https://localhost:8080/"
        },
        "id": "dEN-vC_OUv7R",
        "outputId": "e59013f8-7437-4c32-fa16-c5211aeeeaed"
      },
      "execution_count": null,
      "outputs": [
        {
          "output_type": "execute_result",
          "data": {
            "text/plain": [
              "[35, 480]"
            ]
          },
          "metadata": {},
          "execution_count": 12
        }
      ]
    },
    {
      "cell_type": "markdown",
      "source": [
        "### **Agregar una columna**"
      ],
      "metadata": {
        "id": "L9dIzbHpWyEa"
      }
    },
    {
      "cell_type": "code",
      "source": [
        "test.agregar_columna(['edad',15,25,35])\n",
        "test.imprimir_tabla()"
      ],
      "metadata": {
        "colab": {
          "base_uri": "https://localhost:8080/"
        },
        "id": "3oy0CH-qUv-i",
        "outputId": "a4d91ec4-3a95-4841-97ce-3c4a6918c36f"
      },
      "execution_count": null,
      "outputs": [
        {
          "output_type": "stream",
          "name": "stdout",
          "text": [
            "[['gasto', 'ingreso', 'edad'], [100, 4500, 15], [150, 3500, 25], [35, 480, 35]]\n"
          ]
        }
      ]
    },
    {
      "cell_type": "markdown",
      "source": [
        "### **Eliminar una columna**"
      ],
      "metadata": {
        "id": "7MWTJWGlXQ3A"
      }
    },
    {
      "cell_type": "code",
      "source": [
        "test.eliminar_columna(1)\n",
        "test.imprimir_tabla()"
      ],
      "metadata": {
        "id": "12kAkE3MXWDD",
        "colab": {
          "base_uri": "https://localhost:8080/"
        },
        "outputId": "c53ef454-6e88-4caa-f837-ec0cffd26707"
      },
      "execution_count": null,
      "outputs": [
        {
          "output_type": "stream",
          "name": "stdout",
          "text": [
            "[['gasto', 'edad'], [100, 15], [150, 25], [35, 35]]\n"
          ]
        }
      ]
    },
    {
      "cell_type": "markdown",
      "source": [
        "### **Agregar una fila**"
      ],
      "metadata": {
        "id": "dCjeYZzeXVRf"
      }
    },
    {
      "cell_type": "code",
      "source": [
        "test.agregar_fila([250,7000,42])\n",
        "test.imprimir_tabla()"
      ],
      "metadata": {
        "colab": {
          "base_uri": "https://localhost:8080/"
        },
        "id": "lawCjokFXbrA",
        "outputId": "472daaba-2682-4ded-f7d0-32e744c499bb"
      },
      "execution_count": null,
      "outputs": [
        {
          "output_type": "stream",
          "name": "stdout",
          "text": [
            "El numero de elementos de la nueva fila no coincide\n",
            "[['gasto', 'edad'], [100, 15], [150, 25], [35, 35]]\n"
          ]
        }
      ]
    },
    {
      "cell_type": "markdown",
      "source": [
        "### **Eliminar una fila**"
      ],
      "metadata": {
        "id": "T6-AgtHUXrgG"
      }
    },
    {
      "cell_type": "code",
      "source": [
        "test.eliminar_fila(3)\n",
        "test.imprimir_tabla()"
      ],
      "metadata": {
        "colab": {
          "base_uri": "https://localhost:8080/"
        },
        "id": "FAiGusSEXbuY",
        "outputId": "6f94b751-82e8-4fa8-db79-6ed1aa601794"
      },
      "execution_count": null,
      "outputs": [
        {
          "output_type": "stream",
          "name": "stdout",
          "text": [
            "Fila no valida\n",
            "[['gasto', 'edad'], [100, 15], [150, 25], [35, 35]]\n"
          ]
        }
      ]
    },
    {
      "cell_type": "markdown",
      "source": [
        "### **Operaciones con un escalar**"
      ],
      "metadata": {
        "id": "uvFnMmvZX36O"
      }
    },
    {
      "cell_type": "code",
      "source": [
        "test.operacion_escalar('*10')\n",
        "test.imprimir_tabla()\n"
      ],
      "metadata": {
        "colab": {
          "base_uri": "https://localhost:8080/"
        },
        "id": "KZGBTAVYXbxU",
        "outputId": "2e52d133-4031-4ec0-d19b-4b09f8db2406"
      },
      "execution_count": null,
      "outputs": [
        {
          "output_type": "stream",
          "name": "stdout",
          "text": [
            "[['gasto', 'edad'], [1000, 150], [1500, 250], [350, 350]]\n"
          ]
        }
      ]
    },
    {
      "cell_type": "markdown",
      "source": [
        "### **Operaciones entre columnas**"
      ],
      "metadata": {
        "id": "n9b5_4oLZIYU"
      }
    },
    {
      "cell_type": "code",
      "source": [
        "test.opreacion_columnas('ingreso / gasto')"
      ],
      "metadata": {
        "colab": {
          "base_uri": "https://localhost:8080/"
        },
        "id": "z_-Z65euZHI8",
        "outputId": "83f8bdb2-6ae7-4cb1-d7a7-0c02c9c17d60"
      },
      "execution_count": null,
      "outputs": [
        {
          "output_type": "stream",
          "name": "stdout",
          "text": [
            "Syntaxis no valida\n"
          ]
        }
      ]
    },
    {
      "cell_type": "markdown",
      "source": [
        "### **Imprimir datos**"
      ],
      "metadata": {
        "id": "jfO_MyC4ZZZr"
      }
    },
    {
      "cell_type": "code",
      "source": [
        "test.imprimir_tabla()"
      ],
      "metadata": {
        "colab": {
          "base_uri": "https://localhost:8080/"
        },
        "id": "PyARfswfX2-s",
        "outputId": "adb732ec-4057-4547-e202-10074110e2a7"
      },
      "execution_count": null,
      "outputs": [
        {
          "output_type": "stream",
          "name": "stdout",
          "text": [
            "[['gasto', 'edad'], [1000, 150], [1500, 250], [350, 350]]\n"
          ]
        }
      ]
    },
    {
      "cell_type": "code",
      "source": [],
      "metadata": {
        "id": "A9RDL1OQIeJD"
      },
      "execution_count": null,
      "outputs": []
    }
  ]
}