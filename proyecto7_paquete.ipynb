{
  "nbformat": 4,
  "nbformat_minor": 0,
  "metadata": {
    "colab": {
      "provenance": []
    },
    "kernelspec": {
      "name": "python3",
      "display_name": "Python 3"
    },
    "language_info": {
      "name": "python"
    }
  },
  "cells": [
    {
      "cell_type": "markdown",
      "source": [
        "# **Proyecto 7 - Paquete Regresión**"
      ],
      "metadata": {
        "id": "zIh_c5jzpS56"
      }
    },
    {
      "cell_type": "markdown",
      "source": [
        "### **Instalación e Importación del Paquete**"
      ],
      "metadata": {
        "id": "1UL_ZOiIplPP"
      }
    },
    {
      "cell_type": "code",
      "execution_count": 1,
      "metadata": {
        "colab": {
          "base_uri": "https://localhost:8080/"
        },
        "id": "QAzE_2N7odZl",
        "outputId": "e11de6dc-a04f-47fc-d044-f1579883f4bb"
      },
      "outputs": [
        {
          "output_type": "stream",
          "name": "stdout",
          "text": [
            "Looking in indexes: https://pypi.org/simple, https://us-python.pkg.dev/colab-wheels/public/simple/\n",
            "Requirement already satisfied: wooldridge in /usr/local/lib/python3.7/dist-packages (0.4.4)\n",
            "Requirement already satisfied: pandas in /usr/local/lib/python3.7/dist-packages (from wooldridge) (1.3.5)\n",
            "Requirement already satisfied: pytz>=2017.3 in /usr/local/lib/python3.7/dist-packages (from pandas->wooldridge) (2022.2.1)\n",
            "Requirement already satisfied: numpy>=1.17.3 in /usr/local/lib/python3.7/dist-packages (from pandas->wooldridge) (1.21.6)\n",
            "Requirement already satisfied: python-dateutil>=2.7.3 in /usr/local/lib/python3.7/dist-packages (from pandas->wooldridge) (2.8.2)\n",
            "Requirement already satisfied: six>=1.5 in /usr/local/lib/python3.7/dist-packages (from python-dateutil>=2.7.3->pandas->wooldridge) (1.15.0)\n",
            "Looking in indexes: https://pypi.org/simple, https://us-python.pkg.dev/colab-wheels/public/simple/\n",
            "Collecting paquete-regresion-hugo==0.0.2\n",
            "  Downloading paquete_regresion_hugo-0.0.2-py3-none-any.whl (3.8 kB)\n",
            "Installing collected packages: paquete-regresion-hugo\n",
            "  Attempting uninstall: paquete-regresion-hugo\n",
            "    Found existing installation: paquete-regresion-hugo 0.0.1\n",
            "    Uninstalling paquete-regresion-hugo-0.0.1:\n",
            "      Successfully uninstalled paquete-regresion-hugo-0.0.1\n",
            "Successfully installed paquete-regresion-hugo-0.0.2\n"
          ]
        }
      ],
      "source": [
        "!pip install wooldridge\n",
        "!pip install paquete-regresion-hugo==0.0.2"
      ]
    },
    {
      "cell_type": "code",
      "source": [
        "from paquete_regresion_hugo.proyecto7 import LinearRegression\n",
        "import pandas as pd \n",
        "import wooldridge as wd"
      ],
      "metadata": {
        "id": "ZNQSvcDGokz3"
      },
      "execution_count": 2,
      "outputs": []
    },
    {
      "cell_type": "markdown",
      "source": [
        "### **Test de metodos**"
      ],
      "metadata": {
        "id": "_VQyZAgopxIW"
      }
    },
    {
      "cell_type": "code",
      "source": [
        "# Se van a usar datos del libro de wooldridge para probar el paquete \n",
        "df = wd.data('wage1')\n",
        "y = df['wage']\n",
        "X = df[['educ','exper','tenure']]\n",
        "\n",
        "regresion = LinearRegression(X,y)"
      ],
      "metadata": {
        "id": "UO0UMuxfowaZ"
      },
      "execution_count": 3,
      "outputs": []
    },
    {
      "cell_type": "code",
      "source": [
        "regresion.ajuste()\n",
        "regresion.resumen()"
      ],
      "metadata": {
        "colab": {
          "base_uri": "https://localhost:8080/"
        },
        "id": "mh7ZHwTIrguS",
        "outputId": "c2f872bf-f1e4-4357-8742-411861d22fcf"
      },
      "execution_count": 4,
      "outputs": [
        {
          "output_type": "stream",
          "name": "stdout",
          "text": [
            "      Betas  Error Estandar          T  P-Valor Intervalo de Confianza\n",
            "0 -2.872735        0.728267  -3.944617   0.0001      [-4.3034, -1.442]\n",
            "1  0.598965        0.051234  11.690660   0.0000       [0.4983, 0.6996]\n",
            "2  0.022340        0.012045   1.854623   0.0642       [-0.0013, 0.046]\n",
            "3  0.169269        0.021624   7.827849   0.0000       [0.1268, 0.2117]\n",
            "\n",
            "     Información Adicional\n",
            "SEC                2194.00\n",
            "SRC                4966.00\n",
            "STC                7160.00\n",
            "R2                    0.31\n"
          ]
        }
      ]
    },
    {
      "cell_type": "code",
      "source": [
        "datos_prediccion = [14,3,1] # se va a predecir el salario por hora de una personas con \n",
        "                            # 14 años de educacion, 3 de experiencia, y 1 en trabajo actual \n",
        "regresion.prediccion(datos_prediccion)  "
      ],
      "metadata": {
        "colab": {
          "base_uri": "https://localhost:8080/"
        },
        "id": "kNI0EL01usEi",
        "outputId": "5cf60bba-5dae-4eb3-c360-9ab2592b8671"
      },
      "execution_count": 5,
      "outputs": [
        {
          "output_type": "execute_result",
          "data": {
            "text/plain": [
              "5.512776103855815"
            ]
          },
          "metadata": {},
          "execution_count": 5
        }
      ]
    },
    {
      "cell_type": "code",
      "source": [
        "regresion.breusch_pagan()"
      ],
      "metadata": {
        "colab": {
          "base_uri": "https://localhost:8080/"
        },
        "id": "9xXv0SaX0C-J",
        "outputId": "64245eba-efae-4e98-c5bd-ce5e47ab6545"
      },
      "execution_count": 6,
      "outputs": [
        {
          "output_type": "stream",
          "name": "stdout",
          "text": [
            "             Prueba Breuch Pagan\n",
            "Estadistico                 -0.0\n",
            "P - Valor                    0.0\n"
          ]
        }
      ]
    }
  ]
}